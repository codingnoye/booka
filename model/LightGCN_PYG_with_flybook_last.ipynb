{
 "cells": [
  {
   "cell_type": "code",
   "execution_count": 13,
   "metadata": {
    "id": "cSURfm0hnLuO"
   },
   "outputs": [
    {
     "name": "stdout",
     "output_type": "stream",
     "text": [
      "Collecting package metadata (current_repodata.json): ...working... done\n",
      "Solving environment: ...working... done\n",
      "\n",
      "# All requested packages already installed.\n",
      "\n"
     ]
    }
   ],
   "source": [
    "# Install required packages.\n",
    "!conda install pyg -c pyg\n",
    "!pip install -q git+https://github.com/snap-stanford/deepsnap.git\n",
    "!pip install -U -q PyDrive"
   ]
  },
  {
   "cell_type": "code",
   "execution_count": 15,
   "metadata": {
    "id": "5OBSacx6Q03m"
   },
   "outputs": [],
   "source": [
    "# import required modules\n",
    "import pymysql\n",
    "import random\n",
    "from tqdm import tqdm\n",
    "import pandas as pd\n",
    "import numpy as np\n",
    "import matplotlib.pyplot as plt\n",
    "from sklearn.model_selection import train_test_split\n",
    "\n",
    "import torch\n",
    "from torch import nn, optim, Tensor\n",
    "\n",
    "from torch_sparse import SparseTensor, matmul\n",
    "\n",
    "from torch_geometric.utils import structured_negative_sampling\n",
    "from torch_geometric.data import download_url, extract_zip\n",
    "from torch_geometric.nn.conv.gcn_conv import gcn_norm\n",
    "from torch_geometric.nn.conv import MessagePassing\n",
    "from torch_geometric.typing import Adj"
   ]
  },
  {
   "cell_type": "markdown",
   "metadata": {
    "id": "8mZ6-zPxPklE"
   },
   "source": [
    "# 데이터 불러오기\n",
    "3점이상 데이터 학습\n",
    "\n",
    "훈련/검증/테스트 ->80/10/10 비율"
   ]
  },
  {
   "cell_type": "code",
   "execution_count": 16,
   "metadata": {
    "colab": {
     "base_uri": "https://localhost:8080/"
    },
    "id": "6cRC_IazQ4Oj",
    "outputId": "fe9c2f08-3407-4cb0-8eb7-949dfbd98df7"
   },
   "outputs": [
    {
     "data": {
      "text/html": [
       "<div>\n",
       "<style scoped>\n",
       "    .dataframe tbody tr th:only-of-type {\n",
       "        vertical-align: middle;\n",
       "    }\n",
       "\n",
       "    .dataframe tbody tr th {\n",
       "        vertical-align: top;\n",
       "    }\n",
       "\n",
       "    .dataframe thead th {\n",
       "        text-align: right;\n",
       "    }\n",
       "</style>\n",
       "<table border=\"1\" class=\"dataframe\">\n",
       "  <thead>\n",
       "    <tr style=\"text-align: right;\">\n",
       "      <th></th>\n",
       "      <th>score</th>\n",
       "      <th>book_id</th>\n",
       "      <th>user_id</th>\n",
       "    </tr>\n",
       "  </thead>\n",
       "  <tbody>\n",
       "    <tr>\n",
       "      <th>0</th>\n",
       "      <td>0</td>\n",
       "      <td>8</td>\n",
       "      <td>35</td>\n",
       "    </tr>\n",
       "    <tr>\n",
       "      <th>1</th>\n",
       "      <td>0</td>\n",
       "      <td>76</td>\n",
       "      <td>23</td>\n",
       "    </tr>\n",
       "    <tr>\n",
       "      <th>2</th>\n",
       "      <td>0</td>\n",
       "      <td>77</td>\n",
       "      <td>35</td>\n",
       "    </tr>\n",
       "    <tr>\n",
       "      <th>3</th>\n",
       "      <td>0</td>\n",
       "      <td>4123</td>\n",
       "      <td>35</td>\n",
       "    </tr>\n",
       "    <tr>\n",
       "      <th>4</th>\n",
       "      <td>0</td>\n",
       "      <td>80</td>\n",
       "      <td>35</td>\n",
       "    </tr>\n",
       "    <tr>\n",
       "      <th>...</th>\n",
       "      <td>...</td>\n",
       "      <td>...</td>\n",
       "      <td>...</td>\n",
       "    </tr>\n",
       "    <tr>\n",
       "      <th>94626</th>\n",
       "      <td>10</td>\n",
       "      <td>112486</td>\n",
       "      <td>14726501</td>\n",
       "    </tr>\n",
       "    <tr>\n",
       "      <th>94627</th>\n",
       "      <td>10</td>\n",
       "      <td>453</td>\n",
       "      <td>14726501</td>\n",
       "    </tr>\n",
       "    <tr>\n",
       "      <th>94628</th>\n",
       "      <td>10</td>\n",
       "      <td>934</td>\n",
       "      <td>14726501</td>\n",
       "    </tr>\n",
       "    <tr>\n",
       "      <th>94629</th>\n",
       "      <td>10</td>\n",
       "      <td>3290</td>\n",
       "      <td>14726501</td>\n",
       "    </tr>\n",
       "    <tr>\n",
       "      <th>94630</th>\n",
       "      <td>10</td>\n",
       "      <td>6910</td>\n",
       "      <td>14726501</td>\n",
       "    </tr>\n",
       "  </tbody>\n",
       "</table>\n",
       "<p>94631 rows × 3 columns</p>\n",
       "</div>"
      ],
      "text/plain": [
       "       score  book_id   user_id\n",
       "0          0        8        35\n",
       "1          0       76        23\n",
       "2          0       77        35\n",
       "3          0     4123        35\n",
       "4          0       80        35\n",
       "...      ...      ...       ...\n",
       "94626     10   112486  14726501\n",
       "94627     10      453  14726501\n",
       "94628     10      934  14726501\n",
       "94629     10     3290  14726501\n",
       "94630     10     6910  14726501\n",
       "\n",
       "[94631 rows x 3 columns]"
      ]
     },
     "execution_count": 16,
     "metadata": {},
     "output_type": "execute_result"
    }
   ],
   "source": [
    "#db에서 불렁오기\n",
    "conn = pymysql.connect(host='mm.noye.work', user='blueturtle', password='flyturtle!', db='booka', charset='utf8mb4')\n",
    "curs = conn.cursor(pymysql.cursors.DictCursor)\n",
    "book_path =\"Select id,title,author From backend_book\"\n",
    "rating_path=\"Select score,book_id,user_id From backend_review\"\n",
    "curs.execute(rating_path)\n",
    "mr=curs.fetchall()\n",
    "curs.execute(book_path)\n",
    "mc=curs.fetchall()\n",
    "df=pd.DataFrame(mr)\n",
    "df1=pd.DataFrame(mc)\n",
    "\n",
    "\n",
    "#csv파일 불러오기\n",
    "#book_path = 'book_info_used.csv'\n",
    "#rating_path = 'booka_backend_review.csv'\n",
    "\n",
    "#req_cols = ['user_id', 'book_id', 'score']\n",
    "#req_cols1 = ['id', 'title', 'author']\n",
    "\n",
    "#df = pd.read_csv(rating_path,usecols=req_cols, delimiter=',') \n",
    "#df1 = pd.read_csv(book_path,usecols=req_cols1,delimiter=',') \n",
    "\n",
    "\n",
    "g=df.groupby('score')\n",
    "g.size()\n",
    "df"
   ]
  },
  {
   "cell_type": "code",
   "execution_count": 17,
   "metadata": {},
   "outputs": [
    {
     "data": {
      "text/plain": [
       "RangeIndex(start=0, stop=94631, step=1)"
      ]
     },
     "execution_count": 17,
     "metadata": {},
     "output_type": "execute_result"
    }
   ],
   "source": [
    "df.index.unique()"
   ]
  },
  {
   "cell_type": "code",
   "execution_count": 19,
   "metadata": {
    "id": "o2P3zYR8Q8EX"
   },
   "outputs": [
    {
     "data": {
      "text/plain": [
       "10433"
      ]
     },
     "execution_count": 19,
     "metadata": {},
     "output_type": "execute_result"
    }
   ],
   "source": [
    "#유저와 책을 노드로\n",
    "def load_node_csv(path, index_col):\n",
    "    \n",
    "    \n",
    "    #df = pd.read_csv(path,index_col=index_col,escapechar='\\\\')\n",
    "    curs.execute(path)\n",
    "    mr=curs.fetchall()\n",
    "    df=pd.DataFrame(mr)\n",
    "    df=df.set_index(index_col)\n",
    "    mapping = {index: i for i, index in enumerate(df.index.unique())}\n",
    "    return mapping\n",
    "\n",
    "\n",
    "user_mapping = load_node_csv(rating_path, index_col='user_id')\n",
    "book_mapping = load_node_csv(book_path, index_col='id')\n",
    "new_user_mapping={}\n",
    "\n",
    "len(user_mapping)"
   ]
  },
  {
   "cell_type": "code",
   "execution_count": 20,
   "metadata": {
    "id": "BkJzQlxSRDEq"
   },
   "outputs": [
    {
     "name": "stdout",
     "output_type": "stream",
     "text": [
      "tensor([True])\n",
      "78657\n"
     ]
    }
   ],
   "source": [
    "# 관계성을 이용해 방금만든 노드로 그래프 만들기\n",
    "def load_edge_csv(path, src_index_col, src_mapping, dst_index_col, dst_mapping, link_index_col, rating_threshold=4):\n",
    "\n",
    "    #df = pd.read_csv(path,escapechar='\\\\')\n",
    "    curs.execute(path)\n",
    "    mr=curs.fetchall()\n",
    "    df=pd.DataFrame(mr)\n",
    "    \n",
    "    edge_index = None\n",
    "    src = [src_mapping[index] for index in df[src_index_col]]\n",
    "    dst = [dst_mapping[index] for index in df[dst_index_col]]\n",
    "    edge_attr = torch.from_numpy(df[link_index_col].values).view(-1, 1).to(torch.long) >= rating_threshold \n",
    "    edge_attr2 = torch.from_numpy(df[link_index_col].values).view(-1, 1).to(torch.long) ==0\n",
    "    for i in range(edge_attr.shape[0]):\n",
    "      if(edge_attr[i]==True or edge_attr2[i]==True):\n",
    "         edge_attr[i]=True\n",
    "    # True/False 값으로 만들어 임계값이상인 애들만 posedge로 만들자. (1점인 애들을 연결할수는 없으니..)\n",
    "    print(edge_attr[0])\n",
    "    \n",
    "    edge_index = [[], []]\n",
    "    for i in range(edge_attr.shape[0]):\n",
    "        if edge_attr[i]:\n",
    "            \n",
    "            edge_index[0].append(src[i])\n",
    "            edge_index[1].append(dst[i])\n",
    "\n",
    "    return torch.tensor(edge_index)\n",
    "\n",
    "\n",
    "edge_index = load_edge_csv(\n",
    "    rating_path,\n",
    "    src_index_col='user_id',\n",
    "    src_mapping=user_mapping,\n",
    "    dst_index_col='book_id',\n",
    "    dst_mapping=book_mapping,\n",
    "    link_index_col='score',\n",
    "    rating_threshold=7,\n",
    ")\n",
    "edge_index\n",
    "print(len(edge_index[0]))"
   ]
  },
  {
   "cell_type": "code",
   "execution_count": 21,
   "metadata": {
    "id": "wIueYZfaT6_H"
   },
   "outputs": [
    {
     "name": "stdout",
     "output_type": "stream",
     "text": [
      "10433 32544\n"
     ]
    },
    {
     "data": {
      "text/plain": [
       "62925"
      ]
     },
     "execution_count": 21,
     "metadata": {},
     "output_type": "execute_result"
    }
   ],
   "source": [
    "#데이터셋 나누기\n",
    "num_users, num_books = len(user_mapping), len(book_mapping)\n",
    "num_interactions = edge_index.shape[1]\n",
    "all_indices = [i for i in range(num_interactions)]\n",
    "\n",
    "train_indices, test_indices = train_test_split(\n",
    "    all_indices, test_size=0.2, random_state=1)\n",
    "val_indices, test_indices = train_test_split(\n",
    "    test_indices, test_size=0.5, random_state=1)\n",
    "\n",
    "train_edge_index = edge_index[:, train_indices]\n",
    "val_edge_index = edge_index[:, val_indices]\n",
    "test_edge_index = edge_index[:, test_indices]\n",
    "print(len(user_mapping), len(book_mapping))\n",
    "len(train_edge_index[1])"
   ]
  },
  {
   "cell_type": "code",
   "execution_count": 22,
   "metadata": {
    "id": "U5yKILBJUAN6"
   },
   "outputs": [],
   "source": [
    "# 만든 edge를 활용하여 sparse tensor로 만들어줌  https://pytorch-geometric.readthedocs.io/en/latest/notes/sparse_tensor.html\n",
    "train_sparse_edge_index = SparseTensor(row=train_edge_index[0], col=train_edge_index[1], sparse_sizes=(\n",
    "    num_users + num_books, num_users + num_books))\n",
    "val_sparse_edge_index = SparseTensor(row=val_edge_index[0], col=val_edge_index[1], sparse_sizes=(\n",
    "    num_users + num_books, num_users + num_books))\n",
    "test_sparse_edge_index = SparseTensor(row=test_edge_index[0], col=test_edge_index[1], sparse_sizes=(\n",
    "    num_users + num_books, num_users + num_books))"
   ]
  },
  {
   "cell_type": "code",
   "execution_count": 23,
   "metadata": {
    "id": "KqKI1VduKcwf"
   },
   "outputs": [],
   "source": [
    "def sample_mini_batch(batch_size, edge_index):\n",
    "    \n",
    "    edges = structured_negative_sampling(edge_index) # i,j,k 형태로 튜플형식으로 반환 \n",
    "    edges = torch.stack(edges, dim=0)\n",
    "    indices = random.choices(\n",
    "        [i for i in range(edges[0].shape[0])], k=batch_size) #배치사이즈 개수만큼 랜덤하게 뽑음\n",
    "    batch = edges[:, indices] #행은 다쓰고 열에서 인덱싱\n",
    "    user_indices, pos_item_indices, neg_item_indices = batch[0], batch[1], batch[2]\n",
    "    return user_indices, pos_item_indices, neg_item_indices"
   ]
  },
  {
   "cell_type": "code",
   "execution_count": 24,
   "metadata": {
    "id": "o9GvYg9ehDOX"
   },
   "outputs": [
    {
     "name": "stdout",
     "output_type": "stream",
     "text": [
      "Using device cpu.\n"
     ]
    }
   ],
   "source": [
    "# lightgcn 모델 정의\n",
    "class LightGCN(MessagePassing):\n",
    "    \n",
    "\n",
    "    def __init__(self, num_users, num_items,device,embedding_dim=64, K=3, add_self_loops=False):\n",
    "        \n",
    "        super().__init__()\n",
    "        self.num_users, self.num_items = num_users, num_items\n",
    "        self.embedding_dim, self.K = embedding_dim, K\n",
    "        self.add_self_loops = add_self_loops\n",
    "        self.lin = torch.nn.Linear(64, 64)\n",
    "        self.x=torch.tensor([]).to(device)\n",
    "        self.init_embedding()\n",
    "        #self.users_emb = nn.Embedding(\n",
    "            #num_embeddings=self.num_users, embedding_dim=self.embedding_dim) # e_u^0\n",
    "        #self.items_emb = nn.Embedding(\n",
    "            #num_embeddings=self.num_items, embedding_dim=self.embedding_dim) # e_i^0\n",
    "\n",
    "        #nn.init.normal_(self.users_emb.weight, std=0.1)\n",
    "        #nn.init.normal_(self.items_emb.weight, std=0.1)\n",
    "\n",
    "    def init_embedding(self): #유저와 아이템의 수만큼 임베딩을 만들어주고 그 차원은 latent_dim\n",
    "        self.users_emb = nn.Embedding(\n",
    "            num_embeddings=self.num_users, embedding_dim=self.embedding_dim) # e_u^0\n",
    "        self.items_emb = nn.Embedding(\n",
    "            num_embeddings=self.num_items, embedding_dim=self.embedding_dim) # e_i^0\n",
    "        nn.init.xavier_uniform_(self.users_emb.weight)\n",
    "        nn.init.xavier_uniform_(self.items_emb.weight)\n",
    "\n",
    "    def forward(self, edge_index: SparseTensor):\n",
    "\n",
    "        \"\"\"\n",
    "        #norm matrix#\n",
    "        def gcnnorm(edge_index, edge_weight=None, num_nodes=None, improved=False,\n",
    "              add_self_loops=True, dtype=None):\n",
    "\n",
    "          fill_value = 2. if improved else 1.\n",
    "\n",
    "          if isinstance(edge_index, SparseTensor):\n",
    "              adj_t = edge_index\n",
    "              if not adj_t.has_value():\n",
    "                  adj_t = adj_t.fill_value(1., dtype=dtype)\n",
    "              if add_self_loops:\n",
    "                  adj_t = fill_diag(adj_t, fill_value)\n",
    "              deg = sparsesum(adj_t, dim=1)\n",
    "              deg_inv_sqrt = deg.pow_(-1)\n",
    "\n",
    "              deg_inv_sqrt.masked_fill_(deg_inv_sqrt == float('inf'), 0.)\n",
    "              adj_t = mul(adj_t, deg_inv_sqrt.view(-1, 1))\n",
    "              return adj_t\n",
    "          \"\"\"\n",
    "        \n",
    "       \n",
    "        edge_index_norm = gcn_norm(  # diffusion matrix 인듯? symmentrically 정규화 (self-loop 설정가능) \n",
    "            edge_index, add_self_loops=self.add_self_loops)\n",
    "        emb_0 = torch.cat([self.users_emb.weight, self.items_emb.weight]) \n",
    "        embs = [emb_0]\n",
    "        emb_k = emb_0\n",
    "\n",
    "        \n",
    "        emb_k=self.lin(emb_k)\n",
    "        emb_k=self.lin(emb_k)\n",
    "        \n",
    "        \n",
    "        for i in range(self.K):\n",
    "            emb_k = self.propagate(edge_index_norm, x=emb_k) # 내부적으로 message aggregation update를 call \n",
    "            embs.append(emb_k)\n",
    "\n",
    "        embs = torch.stack(embs, dim=1)\n",
    "        \n",
    "\n",
    "        #emb_final=(embs[0]+embs[1]*0.4+embs[2]*0.3+embs[3]*0.2)/4\n",
    "        \n",
    "        emb_final = torch.mean(embs, dim=1) \n",
    "        users_emb_final, items_emb_final = torch.split(\n",
    "            emb_final, [self.num_users, self.num_items]) \n",
    "\n",
    "        \n",
    "        return users_emb_final, self.users_emb.weight, items_emb_final, self.items_emb.weight\n",
    "\n",
    "    def mesage(self, x_j: Tensor,norm) -> Tensor:\n",
    "        return x_j\n",
    "\n",
    "    def message_and_aggregate(self, adj_t: SparseTensor, x: Tensor) -> Tensor:\n",
    "        \n",
    "        return matmul(adj_t, x)\n",
    "device = torch.device('cuda' if torch.cuda.is_available() else 'cpu')\n",
    "print(f\"Using device {device}.\")\n",
    "model = LightGCN(num_users, num_books,device)"
   ]
  },
  {
   "cell_type": "code",
   "execution_count": 25,
   "metadata": {
    "id": "QmPs1xS-BYfe"
   },
   "outputs": [],
   "source": [
    "def bpr_loss(users_emb_final, users_emb_0, pos_items_emb_final, pos_items_emb_0, neg_items_emb_final, neg_items_emb_0, lambda_val):\n",
    "    \n",
    "    reg_loss = lambda_val * (users_emb_0.norm(2).pow(2) +\n",
    "                             pos_items_emb_0.norm(2).pow(2) +\n",
    "                             neg_items_emb_0.norm(2).pow(2)) \n",
    "\n",
    "    pos_scores = torch.mul(users_emb_final, pos_items_emb_final)\n",
    "    pos_scores = torch.sum(pos_scores, dim=-1) # positive samples의 스코어 예측\n",
    "    neg_scores = torch.mul(users_emb_final, neg_items_emb_final)\n",
    "    neg_scores = torch.sum(neg_scores, dim=-1) # negative samples의 스코어 예측\n",
    "\n",
    "    loss = -torch.mean(torch.nn.functional.softplus(pos_scores - neg_scores)) + reg_loss\n",
    "\n",
    "    return loss"
   ]
  },
  {
   "cell_type": "code",
   "execution_count": 26,
   "metadata": {
    "id": "nHO2gdhRSwzJ"
   },
   "outputs": [],
   "source": [
    "# 각 유저가 본 책의 집합 \n",
    "def get_user_positive_items(edge_index):\n",
    "    \n",
    "    user_pos_items = {}\n",
    "    for i in range(edge_index.shape[1]):\n",
    "        user = edge_index[0][i].item()\n",
    "        item = edge_index[1][i].item()\n",
    "        if user not in user_pos_items:\n",
    "            user_pos_items[user] = []\n",
    "        user_pos_items[user].append(item)\n",
    "    return user_pos_items\n"
   ]
  },
  {
   "cell_type": "code",
   "execution_count": 27,
   "metadata": {
    "id": "8We4BTtfS4NV"
   },
   "outputs": [],
   "source": [
    "# computes recall@K and precision@K\n",
    "def RecallPrecision_ATk(groundTruth, r, k):\n",
    "    \n",
    "    num_correct_pred = torch.sum(r, dim=-1)  # number of correctly predicted items per user\n",
    "    # number of items liked by each user in the test set\n",
    "    user_num_liked = torch.Tensor([len(groundTruth[i])\n",
    "                                  for i in range(len(groundTruth))])\n",
    "    recall = torch.mean(num_correct_pred / user_num_liked)\n",
    "    precision = torch.mean(num_correct_pred) / k\n",
    "    return recall.item(), precision.item()"
   ]
  },
  {
   "cell_type": "code",
   "execution_count": 28,
   "metadata": {
    "id": "9v4A3Ek4TE02"
   },
   "outputs": [],
   "source": [
    "# computes NDCG@K\n",
    "def NDCGatK_r(groundTruth, r, k):\n",
    "    \n",
    "    assert len(r) == len(groundTruth)\n",
    "\n",
    "    test_matrix = torch.zeros((len(r), k))\n",
    "\n",
    "    for i, items in enumerate(groundTruth):\n",
    "        length = min(len(items), k)\n",
    "        test_matrix[i, :length] = 1\n",
    "    max_r = test_matrix\n",
    "    idcg = torch.sum(max_r * 1. / torch.log2(torch.arange(2, k + 2)), axis=1)\n",
    "    dcg = r * (1. / torch.log2(torch.arange(2, k + 2)))\n",
    "    dcg = torch.sum(dcg, axis=1)\n",
    "    idcg[idcg == 0.] = 1.\n",
    "    ndcg = dcg / idcg\n",
    "    ndcg[torch.isnan(ndcg)] = 0.\n",
    "    return torch.mean(ndcg).item()"
   ]
  },
  {
   "cell_type": "code",
   "execution_count": 29,
   "metadata": {
    "id": "x6_741LlTMwI"
   },
   "outputs": [],
   "source": [
    "def get_metrics(model, edge_index, exclude_edge_indices, k):\n",
    "    \n",
    "    user_embedding = model.users_emb.weight\n",
    "    item_embedding = model.items_emb.weight\n",
    "\n",
    "    \n",
    "    rating = torch.matmul(user_embedding, item_embedding.T)\n",
    "\n",
    "    for exclude_edge_index in exclude_edge_indices:\n",
    "        \n",
    "        user_pos_items = get_user_positive_items(exclude_edge_index)\n",
    "        \n",
    "        exclude_users = []\n",
    "        exclude_items = []\n",
    "        for user, items in user_pos_items.items():\n",
    "            exclude_users.extend([user] * len(items))\n",
    "            exclude_items.extend(items)\n",
    "\n",
    "        rating[exclude_users, exclude_items] = -(1 << 10)\n",
    "\n",
    "\n",
    "    _, top_K_items = torch.topk(rating, k=k)\n",
    "\n",
    "   \n",
    "    users = edge_index[0].unique()\n",
    "\n",
    "    test_user_pos_items = get_user_positive_items(edge_index)\n",
    "\n",
    "\n",
    "    test_user_pos_items_list = [\n",
    "        test_user_pos_items[user.item()] for user in users]\n",
    "\n",
    "    \n",
    "    r = []\n",
    "    for user in users:\n",
    "        ground_truth_items = test_user_pos_items[user.item()]\n",
    "        label = list(map(lambda x: x in ground_truth_items, top_K_items[user]))\n",
    "        r.append(label)\n",
    "    r = torch.Tensor(np.array(r).astype('float'))\n",
    "\n",
    "    recall, precision = RecallPrecision_ATk(test_user_pos_items_list, r, k)\n",
    "    ndcg = NDCGatK_r(test_user_pos_items_list, r, k)\n",
    "\n",
    "    return recall, precision, ndcg"
   ]
  },
  {
   "cell_type": "code",
   "execution_count": 30,
   "metadata": {
    "id": "yr_qESXASsVw"
   },
   "outputs": [],
   "source": [
    "\n",
    "def evaluation(model, edge_index, sparse_edge_index, exclude_edge_indices, k, lambda_val):\n",
    "    \n",
    "\n",
    "    users_emb_final, users_emb_0, items_emb_final, items_emb_0 = model.forward(\n",
    "        sparse_edge_index)\n",
    "    edges = structured_negative_sampling(\n",
    "        edge_index, contains_neg_self_loops=False)\n",
    "    user_indices, pos_item_indices, neg_item_indices = edges[0], edges[1], edges[2]\n",
    "    users_emb_final, users_emb_0 = users_emb_final[user_indices], users_emb_0[user_indices]\n",
    "    pos_items_emb_final, pos_items_emb_0 = items_emb_final[\n",
    "        pos_item_indices], items_emb_0[pos_item_indices]\n",
    "    neg_items_emb_final, neg_items_emb_0 = items_emb_final[\n",
    "        neg_item_indices], items_emb_0[neg_item_indices]\n",
    "\n",
    "    loss = bpr_loss(users_emb_final, users_emb_0, pos_items_emb_final, pos_items_emb_0,\n",
    "                    neg_items_emb_final, neg_items_emb_0, lambda_val).item()\n",
    "\n",
    "    recall, precision, ndcg = get_metrics(\n",
    "        model, edge_index, exclude_edge_indices, k)\n",
    "\n",
    "    return loss, recall, precision, ndcg"
   ]
  },
  {
   "cell_type": "code",
   "execution_count": 31,
   "metadata": {
    "id": "MQL2W-NQTeFd"
   },
   "outputs": [],
   "source": [
    "ITERATIONS = 10000\n",
    "BATCH_SIZE = 1024\n",
    "LR = 1e-3\n",
    "ITERS_PER_EVAL = 200\n",
    "ITERS_PER_LR_DECAY = 200\n",
    "K = 20\n",
    "LAMBDA = 1e-6\n"
   ]
  },
  {
   "cell_type": "code",
   "execution_count": 32,
   "metadata": {
    "id": "49JDkBtKTfE-"
   },
   "outputs": [],
   "source": [
    "\n",
    "model = model.to(device)\n",
    "model.train()\n",
    "\n",
    "optimizer = optim.Adam(model.parameters(), lr=LR)\n",
    "scheduler = optim.lr_scheduler.ExponentialLR(optimizer, gamma=0.95)\n",
    "\n",
    "edge_index = edge_index.to(device)\n",
    "train_edge_index = train_edge_index.to(device)\n",
    "train_sparse_edge_index = train_sparse_edge_index.to(device)\n",
    "\n",
    "val_edge_index = val_edge_index.to(device)\n",
    "val_sparse_edge_index = val_sparse_edge_index.to(device)"
   ]
  },
  {
   "cell_type": "code",
   "execution_count": 33,
   "metadata": {
    "id": "wYjrDp1w-hiP"
   },
   "outputs": [
    {
     "name": "stdout",
     "output_type": "stream",
     "text": [
      "[Iteration 0/10000] train_loss: -0.69313, val_loss: -0.693, val_recall@20: 0.00043, val_precision@20: 0.00013, val_ndcg@20: 0.00022\n",
      "[Iteration 200/10000] train_loss: -248.05284, val_loss: -18.57111, val_recall@20: 0.08004, val_precision@20: 0.00763, val_ndcg@20: 0.04098\n",
      "[Iteration 400/10000] train_loss: -5356.44727, val_loss: -410.56363, val_recall@20: 0.0788, val_precision@20: 0.00753, val_ndcg@20: 0.04109\n",
      "[Iteration 600/10000] train_loss: -29708.0918, val_loss: -2107.20947, val_recall@20: 0.07932, val_precision@20: 0.00745, val_ndcg@20: 0.04114\n",
      "[Iteration 800/10000] train_loss: -91228.60938, val_loss: -6030.02539, val_recall@20: 0.07792, val_precision@20: 0.00743, val_ndcg@20: 0.0408\n",
      "[Iteration 1000/10000] train_loss: -207983.76562, val_loss: -13015.92383, val_recall@20: 0.07994, val_precision@20: 0.00756, val_ndcg@20: 0.04126\n",
      "[Iteration 1200/10000] train_loss: -354962.03125, val_loss: -23554.36523, val_recall@20: 0.07995, val_precision@20: 0.00756, val_ndcg@20: 0.04119\n",
      "[Iteration 1400/10000] train_loss: -565397.625, val_loss: -37787.06641, val_recall@20: 0.07991, val_precision@20: 0.00756, val_ndcg@20: 0.04128\n",
      "[Iteration 1600/10000] train_loss: -916584.5625, val_loss: -55140.73828, val_recall@20: 0.07997, val_precision@20: 0.0075, val_ndcg@20: 0.0413\n",
      "[Iteration 1800/10000] train_loss: -1115556.125, val_loss: -76203.96875, val_recall@20: 0.07997, val_precision@20: 0.0075, val_ndcg@20: 0.04132\n",
      "[Iteration 2000/10000] train_loss: -1679990.875, val_loss: -99761.96094, val_recall@20: 0.08005, val_precision@20: 0.00755, val_ndcg@20: 0.04135\n",
      "[Iteration 2200/10000] train_loss: -1775866.125, val_loss: -126304.25, val_recall@20: 0.08037, val_precision@20: 0.00755, val_ndcg@20: 0.04144\n",
      "[Iteration 2400/10000] train_loss: -2358495.75, val_loss: -155432.3125, val_recall@20: 0.08037, val_precision@20: 0.00755, val_ndcg@20: 0.0415\n",
      "[Iteration 2600/10000] train_loss: -2813249.0, val_loss: -187343.57812, val_recall@20: 0.08046, val_precision@20: 0.00759, val_ndcg@20: 0.04155\n",
      "[Iteration 2800/10000] train_loss: -3402870.5, val_loss: -221917.76562, val_recall@20: 0.08064, val_precision@20: 0.00763, val_ndcg@20: 0.04162\n",
      "[Iteration 3000/10000] train_loss: -3447418.75, val_loss: -253295.5625, val_recall@20: 0.08019, val_precision@20: 0.00761, val_ndcg@20: 0.04154\n",
      "[Iteration 3200/10000] train_loss: -4610892.5, val_loss: -287736.59375, val_recall@20: 0.08019, val_precision@20: 0.00761, val_ndcg@20: 0.04152\n",
      "[Iteration 3400/10000] train_loss: -4645008.5, val_loss: -326200.96875, val_recall@20: 0.08017, val_precision@20: 0.00759, val_ndcg@20: 0.04153\n",
      "[Iteration 3600/10000] train_loss: -5439142.5, val_loss: -363471.625, val_recall@20: 0.08036, val_precision@20: 0.00755, val_ndcg@20: 0.04152\n",
      "[Iteration 3800/10000] train_loss: -6502201.0, val_loss: -396505.46875, val_recall@20: 0.08039, val_precision@20: 0.00756, val_ndcg@20: 0.04153\n",
      "[Iteration 4000/10000] train_loss: -7062659.0, val_loss: -430592.21875, val_recall@20: 0.08018, val_precision@20: 0.00759, val_ndcg@20: 0.04151\n",
      "[Iteration 4200/10000] train_loss: -6838273.5, val_loss: -463779.1875, val_recall@20: 0.08043, val_precision@20: 0.00758, val_ndcg@20: 0.04155\n",
      "[Iteration 4400/10000] train_loss: -7724125.0, val_loss: -502626.03125, val_recall@20: 0.08042, val_precision@20: 0.00758, val_ndcg@20: 0.04154\n",
      "[Iteration 4600/10000] train_loss: -8252282.0, val_loss: -538928.9375, val_recall@20: 0.08043, val_precision@20: 0.00758, val_ndcg@20: 0.04154\n",
      "[Iteration 4800/10000] train_loss: -8672992.0, val_loss: -576077.6875, val_recall@20: 0.08043, val_precision@20: 0.00758, val_ndcg@20: 0.04155\n",
      "[Iteration 5000/10000] train_loss: -9954545.0, val_loss: -609271.6875, val_recall@20: 0.08043, val_precision@20: 0.00758, val_ndcg@20: 0.04154\n",
      "[Iteration 5200/10000] train_loss: -9595483.0, val_loss: -629557.5, val_recall@20: 0.08039, val_precision@20: 0.00756, val_ndcg@20: 0.04152\n",
      "[Iteration 5400/10000] train_loss: -9780964.0, val_loss: -664526.625, val_recall@20: 0.08043, val_precision@20: 0.00758, val_ndcg@20: 0.04166\n",
      "[Iteration 5600/10000] train_loss: -11158424.0, val_loss: -705289.875, val_recall@20: 0.08043, val_precision@20: 0.00758, val_ndcg@20: 0.04166\n",
      "[Iteration 5800/10000] train_loss: -10900513.0, val_loss: -727607.875, val_recall@20: 0.08043, val_precision@20: 0.00758, val_ndcg@20: 0.04168\n",
      "[Iteration 6000/10000] train_loss: -12820321.0, val_loss: -756926.1875, val_recall@20: 0.08043, val_precision@20: 0.00758, val_ndcg@20: 0.04167\n",
      "[Iteration 6200/10000] train_loss: -12914942.0, val_loss: -788644.375, val_recall@20: 0.08043, val_precision@20: 0.00758, val_ndcg@20: 0.04166\n",
      "[Iteration 6400/10000] train_loss: -12152642.0, val_loss: -819763.1875, val_recall@20: 0.08043, val_precision@20: 0.00758, val_ndcg@20: 0.04166\n",
      "[Iteration 6600/10000] train_loss: -12459708.0, val_loss: -841043.1875, val_recall@20: 0.08043, val_precision@20: 0.00758, val_ndcg@20: 0.04167\n",
      "[Iteration 6800/10000] train_loss: -14367271.0, val_loss: -867260.5625, val_recall@20: 0.08043, val_precision@20: 0.00758, val_ndcg@20: 0.04167\n",
      "[Iteration 7000/10000] train_loss: -12880323.0, val_loss: -874636.75, val_recall@20: 0.08043, val_precision@20: 0.00758, val_ndcg@20: 0.04167\n",
      "[Iteration 7200/10000] train_loss: -14996462.0, val_loss: -906367.8125, val_recall@20: 0.08043, val_precision@20: 0.00758, val_ndcg@20: 0.04167\n",
      "[Iteration 7400/10000] train_loss: -16065800.0, val_loss: -938345.25, val_recall@20: 0.08043, val_precision@20: 0.00758, val_ndcg@20: 0.04167\n",
      "[Iteration 7600/10000] train_loss: -14983496.0, val_loss: -962430.625, val_recall@20: 0.08043, val_precision@20: 0.00758, val_ndcg@20: 0.04166\n",
      "[Iteration 7800/10000] train_loss: -15821377.0, val_loss: -984515.3125, val_recall@20: 0.08043, val_precision@20: 0.00758, val_ndcg@20: 0.04167\n",
      "[Iteration 8000/10000] train_loss: -14961476.0, val_loss: -1007170.25, val_recall@20: 0.08075, val_precision@20: 0.00759, val_ndcg@20: 0.04174\n",
      "[Iteration 8200/10000] train_loss: -15593999.0, val_loss: -1027729.75, val_recall@20: 0.08075, val_precision@20: 0.00759, val_ndcg@20: 0.04174\n",
      "[Iteration 8400/10000] train_loss: -15466262.0, val_loss: -1033214.5, val_recall@20: 0.08075, val_precision@20: 0.00759, val_ndcg@20: 0.04174\n",
      "[Iteration 8600/10000] train_loss: -16690373.0, val_loss: -1061618.25, val_recall@20: 0.08075, val_precision@20: 0.00759, val_ndcg@20: 0.04174\n",
      "[Iteration 8800/10000] train_loss: -15056166.0, val_loss: -1067509.375, val_recall@20: 0.08075, val_precision@20: 0.00759, val_ndcg@20: 0.04174\n",
      "[Iteration 9000/10000] train_loss: -17164070.0, val_loss: -1088804.875, val_recall@20: 0.08075, val_precision@20: 0.00759, val_ndcg@20: 0.04174\n",
      "[Iteration 9200/10000] train_loss: -18223262.0, val_loss: -1113445.375, val_recall@20: 0.08075, val_precision@20: 0.00759, val_ndcg@20: 0.04174\n",
      "[Iteration 9400/10000] train_loss: -17387774.0, val_loss: -1112245.875, val_recall@20: 0.08075, val_precision@20: 0.00759, val_ndcg@20: 0.04174\n",
      "[Iteration 9600/10000] train_loss: -17392120.0, val_loss: -1129652.125, val_recall@20: 0.08075, val_precision@20: 0.00759, val_ndcg@20: 0.04174\n",
      "[Iteration 9800/10000] train_loss: -18152882.0, val_loss: -1163179.25, val_recall@20: 0.08075, val_precision@20: 0.00759, val_ndcg@20: 0.04174\n"
     ]
    }
   ],
   "source": [
    "train_losses = []\n",
    "val_losses = []\n",
    "\n",
    "for iter in range(ITERATIONS):\n",
    "    \n",
    "    users_emb_final, users_emb_0, items_emb_final, items_emb_0 = model.forward(\n",
    "        train_sparse_edge_index)\n",
    "\n",
    "   \n",
    "    user_indices, pos_item_indices, neg_item_indices = sample_mini_batch(\n",
    "        BATCH_SIZE, train_edge_index)\n",
    "    user_indices, pos_item_indices, neg_item_indices = user_indices.to(\n",
    "        device), pos_item_indices.to(device), neg_item_indices.to(device)\n",
    "    users_emb_final, users_emb_0 = users_emb_final[user_indices], users_emb_0[user_indices]\n",
    "    pos_items_emb_final, pos_items_emb_0 = items_emb_final[\n",
    "        pos_item_indices], items_emb_0[pos_item_indices]\n",
    "    neg_items_emb_final, neg_items_emb_0 = items_emb_final[\n",
    "        neg_item_indices], items_emb_0[neg_item_indices]\n",
    "\n",
    "    \n",
    "    train_loss = bpr_loss(users_emb_final, users_emb_0, pos_items_emb_final,\n",
    "                          pos_items_emb_0, neg_items_emb_final, neg_items_emb_0, LAMBDA)\n",
    "\n",
    "    optimizer.zero_grad()\n",
    "    train_loss.backward()\n",
    "    optimizer.step()\n",
    "\n",
    "    if iter % ITERS_PER_EVAL == 0:\n",
    "        model.eval()\n",
    "        val_loss, recall, precision, ndcg = evaluation(\n",
    "            model, val_edge_index, val_sparse_edge_index, [train_edge_index], K, LAMBDA)\n",
    "        print(f\"[Iteration {iter}/{ITERATIONS}] train_loss: {round(train_loss.item(), 5)}, val_loss: {round(val_loss, 5)}, val_recall@{K}: {round(recall, 5)}, val_precision@{K}: {round(precision, 5)}, val_ndcg@{K}: {round(ndcg, 5)}\")\n",
    "        train_losses.append(train_loss.item())\n",
    "        val_losses.append(val_loss)\n",
    "        model.train()\n",
    "\n",
    "    if iter % ITERS_PER_LR_DECAY == 0 and iter != 0:\n",
    "        scheduler.step()"
   ]
  },
  {
   "cell_type": "code",
   "execution_count": 34,
   "metadata": {
    "id": "nLcdvV5iXBSv"
   },
   "outputs": [
    {
     "data": {
      "image/png": "[encoded data removed]",
      "text/plain": [
       "<Figure size 432x288 with 1 Axes>"
      ]
     },
     "metadata": {
      "needs_background": "light"
     },
     "output_type": "display_data"
    }
   ],
   "source": [
    "iters = [iter * ITERS_PER_EVAL for iter in range(len(train_losses))]\n",
    "plt.plot(iters, train_losses, label='train')\n",
    "plt.plot(iters, val_losses, label='validation')\n",
    "plt.xlabel('iteration')\n",
    "plt.ylabel('loss')\n",
    "plt.title('training and validation loss curves')\n",
    "plt.legend()\n",
    "plt.show()"
   ]
  },
  {
   "cell_type": "code",
   "execution_count": 35,
   "metadata": {
    "id": "G6UjCTMQ_N5e"
   },
   "outputs": [
    {
     "name": "stdout",
     "output_type": "stream",
     "text": [
      "[test_loss: -1294334.125, test_recall@20: 0.08076\n"
     ]
    }
   ],
   "source": [
    "model.eval()\n",
    "test_edge_index = test_edge_index.to(device)\n",
    "test_sparse_edge_index = test_sparse_edge_index.to(device)\n",
    "\n",
    "test_loss, test_recall, test_precision, test_ndcg = evaluation(\n",
    "            model, test_edge_index, test_sparse_edge_index, [train_edge_index, val_edge_index], K, LAMBDA)\n",
    "\n",
    "print(f\"[test_loss: {round(test_loss, 5)}, test_recall@{K}: {round(test_recall, 5)}\")"
   ]
  },
  {
   "cell_type": "markdown",
   "metadata": {
    "id": "At4zWPfaVW6q"
   },
   "source": [
    "# 추천"
   ]
  },
  {
   "cell_type": "code",
   "execution_count": 36,
   "metadata": {
    "id": "SzuMPxFVZlQn"
   },
   "outputs": [
    {
     "ename": "OperationalError",
     "evalue": "(2006, \"MySQL server has gone away (ConnectionResetError(10054, '현재 연결은 원격 호스트에 의해 강제로 끊겼습니다', None, 10054, None))\")",
     "output_type": "error",
     "traceback": [
      "\u001b[1;31m---------------------------------------------------------------------------\u001b[0m",
      "\u001b[1;31mConnectionResetError\u001b[0m                      Traceback (most recent call last)",
      "File \u001b[1;32m~\\anaconda3\\lib\\site-packages\\pymysql\\connections.py:756\u001b[0m, in \u001b[0;36mConnection._write_bytes\u001b[1;34m(self, data)\u001b[0m\n\u001b[0;32m    755\u001b[0m \u001b[38;5;28;01mtry\u001b[39;00m:\n\u001b[1;32m--> 756\u001b[0m     \u001b[38;5;28;43mself\u001b[39;49m\u001b[38;5;241;43m.\u001b[39;49m\u001b[43m_sock\u001b[49m\u001b[38;5;241;43m.\u001b[39;49m\u001b[43msendall\u001b[49m\u001b[43m(\u001b[49m\u001b[43mdata\u001b[49m\u001b[43m)\u001b[49m\n\u001b[0;32m    757\u001b[0m \u001b[38;5;28;01mexcept\u001b[39;00m \u001b[38;5;167;01mIOError\u001b[39;00m \u001b[38;5;28;01mas\u001b[39;00m e:\n",
      "\u001b[1;31mConnectionResetError\u001b[0m: [WinError 10054] 현재 연결은 원격 호스트에 의해 강제로 끊겼습니다",
      "\nDuring handling of the above exception, another exception occurred:\n",
      "\u001b[1;31mOperationalError\u001b[0m                          Traceback (most recent call last)",
      "Input \u001b[1;32mIn [36]\u001b[0m, in \u001b[0;36m<cell line: 3>\u001b[1;34m()\u001b[0m\n\u001b[0;32m      1\u001b[0m model\u001b[38;5;241m.\u001b[39meval()\n\u001b[0;32m      2\u001b[0m \u001b[38;5;66;03m#df = pd.read_csv(book_path,escapechar='\\\\')\u001b[39;00m\n\u001b[1;32m----> 3\u001b[0m \u001b[43mcurs\u001b[49m\u001b[38;5;241;43m.\u001b[39;49m\u001b[43mexecute\u001b[49m\u001b[43m(\u001b[49m\u001b[43mbook_path\u001b[49m\u001b[43m)\u001b[49m\n\u001b[0;32m      4\u001b[0m mr\u001b[38;5;241m=\u001b[39mcurs\u001b[38;5;241m.\u001b[39mfetchall()\n\u001b[0;32m      5\u001b[0m df\u001b[38;5;241m=\u001b[39mpd\u001b[38;5;241m.\u001b[39mDataFrame(mr)\n",
      "File \u001b[1;32m~\\anaconda3\\lib\\site-packages\\pymysql\\cursors.py:148\u001b[0m, in \u001b[0;36mCursor.execute\u001b[1;34m(self, query, args)\u001b[0m\n\u001b[0;32m    144\u001b[0m     \u001b[38;5;28;01mpass\u001b[39;00m\n\u001b[0;32m    146\u001b[0m query \u001b[38;5;241m=\u001b[39m \u001b[38;5;28mself\u001b[39m\u001b[38;5;241m.\u001b[39mmogrify(query, args)\n\u001b[1;32m--> 148\u001b[0m result \u001b[38;5;241m=\u001b[39m \u001b[38;5;28;43mself\u001b[39;49m\u001b[38;5;241;43m.\u001b[39;49m\u001b[43m_query\u001b[49m\u001b[43m(\u001b[49m\u001b[43mquery\u001b[49m\u001b[43m)\u001b[49m\n\u001b[0;32m    149\u001b[0m \u001b[38;5;28mself\u001b[39m\u001b[38;5;241m.\u001b[39m_executed \u001b[38;5;241m=\u001b[39m query\n\u001b[0;32m    150\u001b[0m \u001b[38;5;28;01mreturn\u001b[39;00m result\n",
      "File \u001b[1;32m~\\anaconda3\\lib\\site-packages\\pymysql\\cursors.py:310\u001b[0m, in \u001b[0;36mCursor._query\u001b[1;34m(self, q)\u001b[0m\n\u001b[0;32m    308\u001b[0m \u001b[38;5;28mself\u001b[39m\u001b[38;5;241m.\u001b[39m_last_executed \u001b[38;5;241m=\u001b[39m q\n\u001b[0;32m    309\u001b[0m \u001b[38;5;28mself\u001b[39m\u001b[38;5;241m.\u001b[39m_clear_result()\n\u001b[1;32m--> 310\u001b[0m \u001b[43mconn\u001b[49m\u001b[38;5;241;43m.\u001b[39;49m\u001b[43mquery\u001b[49m\u001b[43m(\u001b[49m\u001b[43mq\u001b[49m\u001b[43m)\u001b[49m\n\u001b[0;32m    311\u001b[0m \u001b[38;5;28mself\u001b[39m\u001b[38;5;241m.\u001b[39m_do_get_result()\n\u001b[0;32m    312\u001b[0m \u001b[38;5;28;01mreturn\u001b[39;00m \u001b[38;5;28mself\u001b[39m\u001b[38;5;241m.\u001b[39mrowcount\n",
      "File \u001b[1;32m~\\anaconda3\\lib\\site-packages\\pymysql\\connections.py:547\u001b[0m, in \u001b[0;36mConnection.query\u001b[1;34m(self, sql, unbuffered)\u001b[0m\n\u001b[0;32m    545\u001b[0m \u001b[38;5;28;01mif\u001b[39;00m \u001b[38;5;28misinstance\u001b[39m(sql, \u001b[38;5;28mstr\u001b[39m):\n\u001b[0;32m    546\u001b[0m     sql \u001b[38;5;241m=\u001b[39m sql\u001b[38;5;241m.\u001b[39mencode(\u001b[38;5;28mself\u001b[39m\u001b[38;5;241m.\u001b[39mencoding, \u001b[38;5;124m\"\u001b[39m\u001b[38;5;124msurrogateescape\u001b[39m\u001b[38;5;124m\"\u001b[39m)\n\u001b[1;32m--> 547\u001b[0m \u001b[38;5;28;43mself\u001b[39;49m\u001b[38;5;241;43m.\u001b[39;49m\u001b[43m_execute_command\u001b[49m\u001b[43m(\u001b[49m\u001b[43mCOMMAND\u001b[49m\u001b[38;5;241;43m.\u001b[39;49m\u001b[43mCOM_QUERY\u001b[49m\u001b[43m,\u001b[49m\u001b[43m \u001b[49m\u001b[43msql\u001b[49m\u001b[43m)\u001b[49m\n\u001b[0;32m    548\u001b[0m \u001b[38;5;28mself\u001b[39m\u001b[38;5;241m.\u001b[39m_affected_rows \u001b[38;5;241m=\u001b[39m \u001b[38;5;28mself\u001b[39m\u001b[38;5;241m.\u001b[39m_read_query_result(unbuffered\u001b[38;5;241m=\u001b[39munbuffered)\n\u001b[0;32m    549\u001b[0m \u001b[38;5;28;01mreturn\u001b[39;00m \u001b[38;5;28mself\u001b[39m\u001b[38;5;241m.\u001b[39m_affected_rows\n",
      "File \u001b[1;32m~\\anaconda3\\lib\\site-packages\\pymysql\\connections.py:814\u001b[0m, in \u001b[0;36mConnection._execute_command\u001b[1;34m(self, command, sql)\u001b[0m\n\u001b[0;32m    812\u001b[0m prelude \u001b[38;5;241m=\u001b[39m struct\u001b[38;5;241m.\u001b[39mpack(\u001b[38;5;124m\"\u001b[39m\u001b[38;5;124m<iB\u001b[39m\u001b[38;5;124m\"\u001b[39m, packet_size, command)\n\u001b[0;32m    813\u001b[0m packet \u001b[38;5;241m=\u001b[39m prelude \u001b[38;5;241m+\u001b[39m sql[: packet_size \u001b[38;5;241m-\u001b[39m \u001b[38;5;241m1\u001b[39m]\n\u001b[1;32m--> 814\u001b[0m \u001b[38;5;28;43mself\u001b[39;49m\u001b[38;5;241;43m.\u001b[39;49m\u001b[43m_write_bytes\u001b[49m\u001b[43m(\u001b[49m\u001b[43mpacket\u001b[49m\u001b[43m)\u001b[49m\n\u001b[0;32m    815\u001b[0m \u001b[38;5;28;01mif\u001b[39;00m DEBUG:\n\u001b[0;32m    816\u001b[0m     dump_packet(packet)\n",
      "File \u001b[1;32m~\\anaconda3\\lib\\site-packages\\pymysql\\connections.py:759\u001b[0m, in \u001b[0;36mConnection._write_bytes\u001b[1;34m(self, data)\u001b[0m\n\u001b[0;32m    757\u001b[0m \u001b[38;5;28;01mexcept\u001b[39;00m \u001b[38;5;167;01mIOError\u001b[39;00m \u001b[38;5;28;01mas\u001b[39;00m e:\n\u001b[0;32m    758\u001b[0m     \u001b[38;5;28mself\u001b[39m\u001b[38;5;241m.\u001b[39m_force_close()\n\u001b[1;32m--> 759\u001b[0m     \u001b[38;5;28;01mraise\u001b[39;00m err\u001b[38;5;241m.\u001b[39mOperationalError(\n\u001b[0;32m    760\u001b[0m         CR\u001b[38;5;241m.\u001b[39mCR_SERVER_GONE_ERROR, \u001b[38;5;124m\"\u001b[39m\u001b[38;5;124mMySQL server has gone away (\u001b[39m\u001b[38;5;132;01m%r\u001b[39;00m\u001b[38;5;124m)\u001b[39m\u001b[38;5;124m\"\u001b[39m \u001b[38;5;241m%\u001b[39m (e,)\n\u001b[0;32m    761\u001b[0m     )\n",
      "\u001b[1;31mOperationalError\u001b[0m: (2006, \"MySQL server has gone away (ConnectionResetError(10054, '현재 연결은 원격 호스트에 의해 강제로 끊겼습니다', None, 10054, None))\")"
     ]
    }
   ],
   "source": [
    "model.eval()\n",
    "#df = pd.read_csv(book_path,escapechar='\\\\')\n",
    "curs.execute(book_path)\n",
    "mr=curs.fetchall()\n",
    "df=pd.DataFrame(mr)\n",
    "bookid_title = pd.Series(df.title.values,index=df.id).to_dict()\n",
    "bookid_authors = pd.Series(df.author.values,index=df.id).to_dict()\n",
    "\n",
    "user_pos_items = get_user_positive_items(edge_index)"
   ]
  },
  {
   "cell_type": "code",
   "execution_count": null,
   "metadata": {
    "id": "oWR-LQUDaqgL"
   },
   "outputs": [],
   "source": [
    "def make_predictions(user_id, num_recs):\n",
    "    user=user_id\n",
    "    e_u = model.users_emb.weight[user]\n",
    "    scores = model.items_emb.weight @ e_u\n",
    "\n",
    "    new_user_mapping={}\n",
    "    for k,v in user_mapping.items():\n",
    "      new_user_mapping[v]=k \n",
    "\n",
    "    values, indices = torch.topk(scores, k=len(user_pos_items[user]) + num_recs) \n",
    "\n",
    "    print(len(user_pos_items[user]) + num_recs)\n",
    "    \n",
    "\n",
    "    books = [index for index in user_pos_items[user]] #해당 유저가 3점이상으로 매기 아이템 다가져옴\n",
    "    book_ids = [list(book_mapping.keys())[list(book_mapping.values()).index(book)] for book in books]\n",
    "    print(book_ids)\n",
    "    titles = [bookid_title[id] for id in book_ids]\n",
    "    authors = [bookid_authors[id] for id in book_ids]\n",
    "\n",
    "    print(f\"Here are some books read by {new_user_mapping[user]}  user\")\n",
    "    for i in range(len(books)):\n",
    "        print(f\"title: {titles[i]}, author: {authors[i]} \")\n",
    "\n",
    "    print()\n",
    "\n",
    "    books = [index.cpu().item() for index in indices if index not in user_pos_items[user]]\n",
    "    book_ids = [list(book_mapping.keys())[list(book_mapping.values()).index(book)] for book in books]\n",
    "    titles = [bookid_title[id] for id in book_ids]\n",
    "    authors = [bookid_authors[id] for id in book_ids]\n",
    "\n",
    "    print(f\"Here are some suggested book for user {new_user_mapping[user]}\")\n",
    "    for i in range(num_recs):\n",
    "        print(f\"title: {titles[i]}, author: {authors[i]} \")"
   ]
  },
  {
   "cell_type": "code",
   "execution_count": null,
   "metadata": {
    "id": "DSFgwnaecWBw"
   },
   "outputs": [],
   "source": [
    "user=edge_index[0].tolist()\n",
    "user=set(user)\n",
    "user=list(user)\n",
    "print(len(user))\n",
    "count=0\n",
    "\n",
    "for i in user:\n",
    "  USER_ID = i\n",
    "  NUM_RECS = 15\n",
    "  make_predictions(USER_ID, NUM_RECS)\n",
    "  print(\"\\n\")\n",
    "  count+=1\n",
    "  if(count==50): break"
   ]
  },
  {
   "cell_type": "code",
   "execution_count": null,
   "metadata": {},
   "outputs": [],
   "source": [
    "item_e=model.items_emb.weight\n",
    "item_e=item_e.detach().numpy()\n",
    "df_item=pd.DataFrame(item_e)\n",
    "df_item\n",
    "\n",
    "user_e=model.users_emb.weight\n",
    "user_e=user_e.detach().numpy()\n",
    "df_user=pd.DataFrame(user_e)\n",
    "df_user\n",
    "\n",
    "df_item.index"
   ]
  },
  {
   "cell_type": "code",
   "execution_count": null,
   "metadata": {},
   "outputs": [],
   "source": [
    "new_user_mapping={}\n",
    "for k,v in user_mapping.items():\n",
    "    new_user_mapping[v]=k \n",
    "list_index=[]\n",
    "\n",
    "for index in df_user.index:\n",
    "    list_index.append(new_user_mapping[index])\n",
    "list_index\n",
    "df_user.index=list_index\n",
    "df_user"
   ]
  },
  {
   "cell_type": "code",
   "execution_count": null,
   "metadata": {},
   "outputs": [],
   "source": [
    "new_book_mapping={}\n",
    "for k,v in book_mapping.items():\n",
    "    new_book_mapping[v]=k \n",
    "list_index=[]\n",
    "\n",
    "for index in df_item.index:\n",
    "    list_index.append(new_book_mapping[index])\n",
    "df_item.index=list_index\n",
    "df_item"
   ]
  },
  {
   "cell_type": "code",
   "execution_count": null,
   "metadata": {},
   "outputs": [],
   "source": [
    "d_item=dict()\n",
    "count=0\n",
    "for i in df_item.index:\n",
    "    d_item[i]=df_item.iloc[count].values.tolist()\n",
    "    count+=1\n",
    "d_item  "
   ]
  },
  {
   "cell_type": "code",
   "execution_count": null,
   "metadata": {},
   "outputs": [],
   "source": [
    "d_user=dict()\n",
    "count=0\n",
    "for i in df_user.index:\n",
    "    d_user[i]=df_user.iloc[count].values.tolist()\n",
    "    count+=1\n",
    "d_user  "
   ]
  },
  {
   "cell_type": "code",
   "execution_count": null,
   "metadata": {},
   "outputs": [],
   "source": [
    "import pickle\n",
    " \n",
    "## Save pickle\n",
    "with open(\"data.pickleu\",\"wb\") as fw:\n",
    "    pickle.dump(d_user, fw)\n",
    " \n",
    "## Load pickle\n",
    "with open(\"data.pickleu\",\"rb\") as fr:\n",
    "    data = pickle.load(fr)\n",
    "\n",
    "\n",
    "\n",
    "    \n",
    "    \n",
    "    \n",
    "with open(\"data.picklee\",\"wb\") as fw:\n",
    "    pickle.dump(d_item, fw)\n",
    " \n",
    "## Load pickle\n",
    "with open(\"data.picklee\",\"rb\") as fr:\n",
    "    data = pickle.load(fr)"
   ]
  }
 ],
 "metadata": {
  "accelerator": "GPU",
  "colab": {
   "collapsed_sections": [],
   "machine_shape": "hm",
   "name": "LightGCN_PYG with flybook.ipynb",
   "provenance": []
  },
  "kernelspec": {
   "display_name": "Python 3 (ipykernel)",
   "language": "python",
   "name": "python3"
  },
  "language_info": {
   "codemirror_mode": {
    "name": "ipython",
    "version": 3
   },
   "file_extension": ".py",
   "mimetype": "text/x-python",
   "name": "python",
   "nbconvert_exporter": "python",
   "pygments_lexer": "ipython3",
   "version": "3.9.7"
  }
 },
 "nbformat": 4,
 "nbformat_minor": 1
}
